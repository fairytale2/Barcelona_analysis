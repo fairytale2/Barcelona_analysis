{
 "cells": [
  {
   "cell_type": "code",
   "execution_count": 1,
   "id": "0b2ba793",
   "metadata": {},
   "outputs": [],
   "source": [
    "import requests\n",
    "from bs4 import BeautifulSoup\n",
    "import pandas as pd\n",
    "\n",
    "# URL of the Wikipedia page containing the table\n",
    "url = \"https://en.wikipedia.org/wiki/2018%E2%80%9319_FC_Barcelona_season\"\n",
    "\n",
    "# Send a GET request to the URL and store the HTML response\n",
    "response = requests.get(url)\n",
    "\n",
    "# Parse the HTML response using BeautifulSoup\n",
    "soup = BeautifulSoup(response.content, \"html.parser\")\n",
    "\n",
    "# Find the table element using its class attribute\n",
    "table = soup.find(\"table\", {\"class\": \"wikitable sortable\"})\n",
    "\n",
    "# Extract the table header row\n",
    "header_row = table.find(\"tr\")\n",
    "headers = [header.text.strip() for header in header_row.find_all(\"th\")]\n",
    "\n",
    "# Extract the table data rows\n",
    "data_rows = table.find_all(\"tr\")[1:]\n",
    "data = []\n",
    "for row in data_rows:\n",
    "    cells = [cell.text.strip() for cell in row.find_all(\"td\")]\n",
    "    data.append(cells)\n",
    "\n",
    "# Create a Pandas DataFrame from the table data\n",
    "df = pd.DataFrame(data, columns=headers)\n",
    "\n",
    "# Write the DataFrame to a CSV file\n",
    "df.to_csv(\"barca.csv\", index=False)\n"
   ]
  },
  {
   "cell_type": "code",
   "execution_count": 2,
   "id": "86147175",
   "metadata": {},
   "outputs": [],
   "source": [
    "table1 = soup.find(\"table\", {\"class\": \"wikitable sortable\"})\n",
    "\n",
    "# All the element to extract data from had the same class name\n",
    "# Find the second table element by finding the next sibling of the first table\n",
    "table2 = table1.find_next_sibling(\"table\", {\"class\": \"wikitable sortable\"})\n",
    "\n",
    "header_row = table2.find(\"tr\")\n",
    "headers = [header.text.strip() for header in header_row.find_all(\"th\")]\n",
    "data_rows = table2.find_all(\"tr\")[1:]\n",
    "data = []\n",
    "for row in data_rows:\n",
    "    cells = [cell.text.strip() for cell in row.find_all(\"td\")]\n",
    "    data.append(cells)\n",
    "df = pd.DataFrame(data, columns=headers)\n",
    "df.to_csv(\"barca.csv\", index=False)"
   ]
  },
  {
   "cell_type": "code",
   "execution_count": 3,
   "id": "68134012",
   "metadata": {},
   "outputs": [],
   "source": [
    "# Find the third table element\n",
    "table3 = table2.find_next_sibling(\"table\", {\"class\": \"wikitable sortable\"})\n",
    "\n",
    "header_row = table3.find(\"tr\")\n",
    "headers = [header.text.strip() for header in header_row.find_all(\"th\")]\n",
    "data_rows = table3.find_all(\"tr\")[1:]\n",
    "data = []\n",
    "for row in data_rows:\n",
    "    cells = [cell.text.strip() for cell in row.find_all(\"td\")]\n",
    "    data.append(cells)\n",
    "df = pd.DataFrame(data, columns=headers)\n",
    "df.to_csv(\"barca.csv\", index=False)"
   ]
  },
  {
   "cell_type": "code",
   "execution_count": 4,
   "id": "12965baa",
   "metadata": {},
   "outputs": [],
   "source": [
    "table4 = table3.find_next_sibling(\"table\", {\"class\": \"wikitable sortable\"})\n",
    "\n",
    "header_row = table4.find(\"tr\")\n",
    "headers = [header.text.strip() for header in header_row.find_all(\"th\")]\n",
    "data_rows = table4.find_all(\"tr\")[1:]\n",
    "data = []\n",
    "for row in data_rows:\n",
    "    cells = [cell.text.strip() for cell in row.find_all(\"td\")]\n",
    "    data.append(cells)\n",
    "df = pd.DataFrame(data, columns=headers)\n",
    "df.to_csv(\"barca.csv\", index=False)"
   ]
  },
  {
   "cell_type": "code",
   "execution_count": 5,
   "id": "c8f586ce",
   "metadata": {},
   "outputs": [],
   "source": [
    "table5 = table4.find_next_sibling(\"table\", {\"class\": \"wikitable sortable\"})\n",
    "\n",
    "header_row = table5.find(\"tr\")\n",
    "headers = [header.text.strip() for header in header_row.find_all(\"th\")]\n",
    "data_rows = table5.find_all(\"tr\")[1:]\n",
    "data = []\n",
    "for row in data_rows:\n",
    "    cells = [cell.text.strip() for cell in row.find_all(\"td\")]\n",
    "    data.append(cells)\n",
    "df = pd.DataFrame(data, columns=headers)\n",
    "df.to_csv(\"barca.csv\", index=False)"
   ]
  },
  {
   "cell_type": "markdown",
   "id": "a22d5741",
   "metadata": {},
   "source": [
    "### Summary\n",
    "I had collected data about FC Barcelona's 2018/2019 season involves gathering information about their player transfers in and out, as well as the team's loans in and out. This data would provide insight into the club's recruitment strategies and player development\n",
    "\n",
    "\n",
    "## With the data that collected there are several questions that can be answered such as :\n",
    "### What was the net spending on transfers during the 2018/2019 season\n",
    "### Which players were the most expensive transfers during the 2018/2019 season\n",
    "### What was the average transfer fee for players bought by Barcelona during the 2018/2019 season?\n",
    "### Which positions did Barcelona focus on strengthening during the 2018/2019 season"
   ]
  },
  {
   "cell_type": "markdown",
   "id": "b7b89dec",
   "metadata": {},
   "source": [
    "\n",
    "\n",
    "# <font color=\"red\"> We start our analysis by answering the questions:</font>\n",
    "### <font color=\"green\"> First question:What was the net spending on transfers during the 2018/2019 season?</font>\n",
    "\n",
    "To answer the first question we need to have data on the total amount spent on buying players and the total amount received from selling players.Once we have this data, we can calculate the net spending on transfers by subtracting the total amount received from the total amount spent."
   ]
  },
  {
   "cell_type": "code",
   "execution_count": 17,
   "id": "ccd4d3e9",
   "metadata": {
    "scrolled": false
   },
   "outputs": [
    {
     "name": "stdout",
     "output_type": "stream",
     "text": [
      "All transfer in for Barcelona: \n",
      " \n",
      "Entry date Position  No.            Player     From club      Fee\n",
      "2018-07-09       MF    8            Arthur        Grêmio 31000000\n",
      "2018-07-12       DF   15   Clément Lenglet       Sevilla 35900000\n",
      "2018-07-24       FW   14            Malcom      Bordeaux 41000000\n",
      "2018-08-03       MF   22      Arturo Vidal Bayern Munich 19000000\n",
      "2019-01-31       DF    6 Jean-Clair Todibo      Toulouse  1000000\n",
      "\n",
      " All transfer out for Barcelona: \n",
      " \n",
      "         Exit date Position No.          Player              To club      Fee\n",
      "    1 July 2018[A]       MF   8  Andrés Iniesta          Vissel Kobe        0\n",
      "    1 July 2018[B]       FW   — Gerard Deulofeu              Watford 13000000\n",
      "     1 August 2018       DF  19     Lucas Digne              Everton 20200000\n",
      "     4 August 2018       DF  22     Aleix Vidal              Sevilla  8500000\n",
      "     9 August 2018       DF  24      Yerry Mina              Everton 30250000\n",
      "    16 August 2018       DF   —          Marlon             Sassuolo  6000000\n",
      "   11 January 2019       FW  19           Munir              Sevilla  1050000\n",
      "   15 January 2019       MF   —        Paulinho Guangzhou Evergrande 42000000\n",
      "1 February 2019[I]       FW   —    Paco Alcácer    Borussia Dortmund 23000000\n",
      "      4 March 2019       MF  16    Sergi Samper          Vissel Kobe        0\n"
     ]
    }
   ],
   "source": [
    "import pandas as pd\n",
    "\n",
    "#Import data about the transfers in from the excel file\n",
    "transfer_in = pd.read_excel('Transfers_in.xlsx', sheet_name='barca (2)')\n",
    "print('All transfer in for Barcelona: \\n \\n' + transfer_in.to_string(index=False))\n",
    "\n",
    "#Import data about the transfers out from the excel file\n",
    "transfer_out = pd.read_excel('Transfers_out.xlsx', sheet_name='barca (2)')\n",
    "print('\\n All transfer out for Barcelona: \\n \\n' + transfer_out.to_string(index=False))"
   ]
  },
  {
   "cell_type": "code",
   "execution_count": 18,
   "id": "2a7f4066",
   "metadata": {},
   "outputs": [
    {
     "name": "stdout",
     "output_type": "stream",
     "text": [
      "127900000.00€ million\n",
      "144000000.00€ million\n"
     ]
    }
   ],
   "source": [
    "#Calculate sum of the transfers in\n",
    "sum_in = transfer_in['Fee'].sum()\n",
    "print(\"{:.2f}€ million\".format(sum_in))\n",
    "\n",
    "#Calculate the sum of the Transfers_out\n",
    "sum_out = transfer_out['Fee'].sum()\n",
    "print(\"{:.2f}€ million\".format(sum_out))"
   ]
  },
  {
   "cell_type": "code",
   "execution_count": 19,
   "id": "5f1a56d7",
   "metadata": {},
   "outputs": [
    {
     "name": "stdout",
     "output_type": "stream",
     "text": [
      "\n",
      " net spending on transfers: \n",
      "-16100000.00€ million\n"
     ]
    }
   ],
   "source": [
    "# Calculate net spending \n",
    "net_spending = sum_in - sum_out \n",
    "print(\"\\n net spending on transfers: \")\n",
    "print(\"{:.2f}€ million\".format(net_spending))\n"
   ]
  },
  {
   "cell_type": "code",
   "execution_count": 20,
   "id": "d224ba4b",
   "metadata": {},
   "outputs": [
    {
     "name": "stdout",
     "output_type": "stream",
     "text": [
      "       Fee\n",
      "0  2000000\n",
      "1  1000000\n",
      "        Fee\n",
      "0  50000000\n",
      "1   4000000\n",
      "2   1000000\n",
      "3   2250000\n",
      "4   2000000\n",
      "5  18000000\n",
      "\n",
      " net spending on loans: \n",
      "-74250000.00€ million\n"
     ]
    }
   ],
   "source": [
    "#We do the same with the loans in and out \n",
    "#import data from the excel files\n",
    "loans_in = pd.read_excel('Loans_in.xlsx', sheet_name='barca (2)')\n",
    "print(loans_in[['Fee']])\n",
    "\n",
    "loans_out = pd.read_excel('Loans_out.xlsx', sheet_name='barca (2)')\n",
    "print(loans_out[['Fee']])\n",
    "\n",
    "#Calculate net spending\n",
    "net_spend = loans_in[['Fee']].sum().values[0] - loans_out[['Fee']].sum().values[0]\n",
    "print(\"\\n net spending on loans: \")\n",
    "print(\"{:.2f}€ million\".format(net_spend))\n"
   ]
  },
  {
   "cell_type": "markdown",
   "id": "44a406c3",
   "metadata": {},
   "source": [
    "## <font color=\"red\">Final answer on the question:</font>\n",
    "\n",
    "<h5>A positive net spending (more money spent on transfers than received) indicates that the team has invested more money in acquiring players than they have received from selling players. On the other hand, a negative net spending (more money received from sales than spent on acquiring players) indicates that the team has made a profit from transfers. In this case we have a negative net spending wich means that is a profit for the team.\n",
    "It's important to note that transfer spending is only one aspect of a team's financial situation, and other factors such as overall revenue and expenses should be considered in order to fully assess the team's financial performance.</h5>\n",
    "\n",
    "\n",
    "### <font color=\"blue\"> Second question:Which players were the most expensive transfers during the 2018/2019 season?</font>\n"
   ]
  },
  {
   "cell_type": "code",
   "execution_count": 21,
   "id": "d9b3d439",
   "metadata": {},
   "outputs": [
    {
     "name": "stdout",
     "output_type": "stream",
     "text": [
      "              Player       Fee Direction\n",
      "0             Arthur  31000000        in\n",
      "1    Clément Lenglet  35900000        in\n",
      "2             Malcom  41000000        in\n",
      "3       Arturo Vidal  19000000        in\n",
      "4  Jean-Clair Todibo   1000000        in\n",
      "0     Andrés Iniesta         0       out\n",
      "1    Gerard Deulofeu  13000000       out\n",
      "2        Lucas Digne  20200000       out\n",
      "3        Aleix Vidal   8500000       out\n",
      "4         Yerry Mina  30250000       out\n",
      "5             Marlon   6000000       out\n",
      "6              Munir   1050000       out\n",
      "7           Paulinho  42000000       out\n",
      "8       Paco Alcácer  23000000       out\n",
      "9       Sergi Samper         0       out\n"
     ]
    }
   ],
   "source": [
    "#We have already imported the two files\n",
    "#Add a column to each DataFrame to indicate the direction of the transfer\n",
    "transfer_in[\"Direction\"] = \"in\"\n",
    "transfer_out[\"Direction\"] = \"out\"\n",
    "\n",
    "#Concatenate the two DataFrames into a single DataFrame\n",
    "tr_in = transfer_in[['Player','Fee','Direction']]\n",
    "tr_out = transfer_out[['Player','Fee','Direction']]\n",
    "all_transfers = pd.concat([tr_in, tr_out], axis = 0)\n",
    "print(all_transfers)\n",
    " \n",
    "#Sort the DataFrame by transfer fee in descending order and select the top transfers\n",
    "top_transfers = all_transfers.sort_values(\"Fee\", ascending=False)"
   ]
  },
  {
   "cell_type": "markdown",
   "id": "1b38e7a7",
   "metadata": {},
   "source": [
    "## <font color=\"red\"> Final answer:</font>\n",
    "\n",
    "<b>This code imports data from two Excel files containing information about player transfers in and out of Barcelona during the 2018/2019 season. It then adds a Direction column to each DataFrame to indicate whether the transfer was in or out. The two DataFrames are then concatenated into a single DataFrame named all_transfers. This DataFrame is sorted by transfer fee in descending order using the sort_values method and selecting the top transfers using the head method. The resulting DataFrame shows the players with the highest transfer fees for the 2018/2019 season\n",
    "so the most expensive transfers was:</b>"
   ]
  },
  {
   "cell_type": "code",
   "execution_count": 22,
   "id": "ab7d3dfb",
   "metadata": {},
   "outputs": [
    {
     "name": "stdout",
     "output_type": "stream",
     "text": [
      "            Player       Fee Direction\n",
      "7         Paulinho  42000000       out\n",
      "2           Malcom  41000000        in\n",
      "1  Clément Lenglet  35900000        in\n",
      "0           Arthur  31000000        in\n",
      "4       Yerry Mina  30250000       out\n"
     ]
    }
   ],
   "source": [
    "print(top_transfers.head())\n"
   ]
  },
  {
   "cell_type": "markdown",
   "id": "3344d3bd",
   "metadata": {},
   "source": [
    "<b>We can use data visualization as well:</b>"
   ]
  },
  {
   "cell_type": "code",
   "execution_count": 23,
   "id": "9163f783",
   "metadata": {},
   "outputs": [
    {
     "data": {
      "image/png": "[encoded data removed]",
      "text/plain": [
       "<Figure size 432x288 with 1 Axes>"
      ]
     },
     "metadata": {
      "needs_background": "light"
     },
     "output_type": "display_data"
    }
   ],
   "source": [
    "\n",
    "#Create a bar chart\n",
    "fig, ax = plt.subplots()\n",
    "ax.bar(top_transfers['Player'], top_transfers['Fee'], color='blue')\n",
    "\n",
    "#Customize the chart\n",
    "ax.set_title('Most Expensive Transfers - 2018/2019 Season')\n",
    "ax.set_xlabel('Player')\n",
    "ax.set_ylabel('Transfer Fee (in millions of euros)')\n",
    "\n",
    "#Rotate the x-axis labels to avoid overlap\n",
    "plt.xticks(rotation=45, ha='right')\n",
    "\n",
    "#Show the chart\n",
    "plt.show()\n"
   ]
  },
  {
   "cell_type": "markdown",
   "id": "a836b303",
   "metadata": {},
   "source": [
    "### <font color=\"blue\">Third question:What was the average transfer fee for players bought by Barcelona during the 2018/2019 season?</font>\n",
    "\n",
    "<b>To answer this question we can simply combine the transfer in and loans in to calculate the average</b>"
   ]
  },
  {
   "cell_type": "code",
   "execution_count": 24,
   "id": "9dbd4426",
   "metadata": {
    "scrolled": false
   },
   "outputs": [
    {
     "name": "stdout",
     "output_type": "stream",
     "text": [
      "Entry date Position  No.               Player     From club      Fee Direction Start date      End date\n",
      "2018-07-09       MF    8               Arthur        Grêmio 31000000        in        NaT           NaN\n",
      "2018-07-12       DF   15      Clément Lenglet       Sevilla 35900000        in        NaT           NaN\n",
      "2018-07-24       FW   14               Malcom      Bordeaux 41000000        in        NaT           NaN\n",
      "2018-08-03       MF   22         Arturo Vidal Bayern Munich 19000000        in        NaT           NaN\n",
      "2019-01-31       DF    6    Jean-Clair Todibo      Toulouse  1000000        in        NaT           NaN\n",
      "       NaT       DF   17       Jeison Murillo      Valencia  2000000       NaN 2018-12-20 End of season\n",
      "       NaT       FW   19 Kevin-Prince Boateng      Sassuolo  1000000       NaN 2019-01-21 End of season\n",
      "\n",
      " \n",
      " The average transfer fee for players bought by Barcelona during the 2018/2019 season was 18700000.00 million euros.\n"
     ]
    }
   ],
   "source": [
    "#Combine the dataframes\n",
    "bought = pd.concat([transfer_in, loans_in], ignore_index=True)\n",
    "print(bought.to_string(index=False))\n",
    "\n",
    "# calculate the average transfer fee\n",
    "avg_transfer_fee = bought['Fee'].mean()\n",
    "\n",
    "# print the result\n",
    "print(f'\\n \\n The average transfer fee for players bought by Barcelona during the 2018/2019 season was {avg_transfer_fee:.2f} million euros.')"
   ]
  },
  {
   "cell_type": "markdown",
   "id": "8161cb2a",
   "metadata": {},
   "source": [
    "### <font color=\"blue\">Fourth question:Which positions did Barcelona focus on strengthening during the 2018/2019 season?</font>\n",
    "\n",
    "<b>To answer this question, we need to analyze the positions of players that were bought by Barcelona during the 2018/2019 season. We can use the DataFrame that we created earlier, which contains information about the players bought by Barcelona.</b>"
   ]
  },
  {
   "cell_type": "code",
   "execution_count": 25,
   "id": "c9a28bfc",
   "metadata": {},
   "outputs": [],
   "source": [
    "#Create a new DataFrame that contains the positions of the players bought by Barcelona\n",
    "positions = pd.DataFrame(bought[['Position']])\n",
    "\n",
    "#Group the positions by count to see how many players were bought for each position\n",
    "positions_count = positions.groupby(['Position']).size().reset_index(name='Count')\n",
    "\n",
    "#Sort the positions by count in descending order to see which positions Barcelona focused on strengthening the most\n",
    "positions_count_sorted = positions_count.sort_values(by=['Count'], ascending=False)\n",
    "\n",
    "\n"
   ]
  },
  {
   "cell_type": "markdown",
   "id": "017cf3c3",
   "metadata": {},
   "source": [
    "## <font color=\"red\">Final answer:</font>\n",
    "\n",
    "<b>From this analysis, we can see that Barcelona focused on strengthening the defense position the most during the 2018/2019 season, with 3 players bought for the position. They also bought two for forward player and same for the midfield.</b>"
   ]
  },
  {
   "cell_type": "code",
   "execution_count": 26,
   "id": "5636e306",
   "metadata": {},
   "outputs": [
    {
     "name": "stdout",
     "output_type": "stream",
     "text": [
      "Position  Count\n",
      "      DF      3\n",
      "      FW      2\n",
      "      MF      2\n"
     ]
    }
   ],
   "source": [
    "#Print the result\n",
    "print(positions_count_sorted.to_string(index=False))"
   ]
  },
  {
   "cell_type": "markdown",
   "id": "487490ac",
   "metadata": {},
   "source": [
    "### <font color = \"red\"> The code given bellow extract data from web, the data is about all barcelone games during 2017/2018 season.</font> "
   ]
  },
  {
   "cell_type": "code",
   "execution_count": 16,
   "id": "363000a5",
   "metadata": {
    "scrolled": false
   },
   "outputs": [],
   "source": [
    "import requests\n",
    "import csv\n",
    "from bs4 import BeautifulSoup\n",
    "\n",
    "url = 'https://en.wikipedia.org/wiki/2018%E2%80%9319_FC_Barcelona_season'\n",
    "response = requests.get(url)\n",
    "\n",
    "soup = BeautifulSoup(response.text, 'html.parser')\n",
    "\n",
    "# Find the div element containing the match details\n",
    "match_div = soup.find_all('div', {'class': 'vevent'})\n",
    "\n",
    "# Open a CSV file to write the data\n",
    "with open('matches.csv', 'w', newline='', encoding='utf-8') as csvfile:\n",
    "    writer = csv.writer(csvfile)\n",
    "\n",
    "    # Loop through each match div and extract the data\n",
    "    for div in match_div:\n",
    "        # Find the table element containing the match data\n",
    "        match_table = div.find('table', {'class': 'mw-collapsible mw-collapsed vevent'})\n",
    "\n",
    "        # Find all the rows in the table\n",
    "        rows = match_table.find_all('tr')\n",
    "\n",
    "        # Loop through the rows and extract the match data\n",
    "        for row in rows:\n",
    "            try:\n",
    "                date = row.find_all('td')[0].find('span').text\n",
    "                home = row.find_all('td')[1].find('span', {'class': 'fn org'}).text\n",
    "                result = row.find_all('td')[2].text\n",
    "                away = row.find_all('td')[3].find('span', {'class': 'fn org'}).text\n",
    "\n",
    "                # Write the data to the CSV file\n",
    "                writer.writerow([date, home, result, away])\n",
    "            except:\n",
    "                pass\n"
   ]
  },
  {
   "cell_type": "markdown",
   "id": "076dc012",
   "metadata": {},
   "source": [
    "<b> After reviewing the csv file i found that the date of the match repeat twice, \n",
    "    so we should clean the data using the code bellow</b>"
   ]
  },
  {
   "cell_type": "code",
   "execution_count": 17,
   "id": "ceeff9db",
   "metadata": {},
   "outputs": [],
   "source": [
    "import csv\n",
    "import re\n",
    "\n",
    "# Open the input and output CSV files\n",
    "with open('matches.csv', 'r', newline='', encoding='utf-8') as infile, \\\n",
    "     open('matches_cleaned.csv', 'w', newline='', encoding='utf-8') as outfile:\n",
    "    \n",
    "    # Create a CSV reader and writer objects\n",
    "    reader = csv.reader(infile, delimiter=',', quotechar='\"')\n",
    "    writer = csv.writer(outfile, delimiter=',', quotechar='\"', quoting=csv.QUOTE_MINIMAL)\n",
    "    \n",
    "    # Write the header row to the output CSV file\n",
    "    writer.writerow(next(reader))\n",
    "\n",
    "    # Loop through each row in the input CSV file\n",
    "    for row in reader:\n",
    "        # Remove the data between parentheses using regular expressions\n",
    "        date = re.sub(r'\\([^()]*\\)', '', row[0]).strip()\n",
    "\n",
    "        # Write the cleaned row to the output CSV file\n",
    "        writer.writerow([date] + row[1:])\n"
   ]
  },
  {
   "cell_type": "markdown",
   "id": "747bdd7d",
   "metadata": {},
   "source": [
    "<b>Based on the matches_cleaned.csv file there is a several questions can be asked</b>\n",
    "\n",
    "### <font color=\"blue\">First question: What is the distribution of goals scored by the team who played against Barcelona?<\\font>"
   ]
  },
  {
   "cell_type": "code",
   "execution_count": 28,
   "id": "e7615701",
   "metadata": {},
   "outputs": [
    {
     "name": "stdout",
     "output_type": "stream",
     "text": [
      "[' Girona 1', ' Alavés 0', ' Valladolid 0', ' Huesca 2', ' Real Sociedad 1', ' Girona 2', ' Leganés 2', ' Athletic Bilbao 1', ' Valencia 1', ' Sevilla 2', ' Real Madrid 1', ' Rayo Vallecano 2', ' Real Betis 4', ' Atlético Madrid 1', ' Villarreal 0', ' Espanyol 0', ' Levante 0', ' Celta Vigo 0', ' Getafe 1', ' Eibar 0', ' Leganés 1', ' Girona 0', ' Valencia 2', ' Athletic Bilbao 0', ' Valladolid 0', ' Sevilla 2', ' Real Madrid 0', ' Rayo Vallecano 1', ' Real Betis 1', ' Espanyol 0', ' Villarreal 4', ' Atlético Madrid 0', ' Huesca 0', ' Real Sociedad 1', ' Alavés 0', ' Levante 0', ' Celta Vigo 2', ' Getafe 0', ' Eibar 2', ' Cultural Leonesa 0', ' Cultural Leonesa 1', ' Levante 2', ' Levante 0', ' Sevilla 2', ' Sevilla 1', ' Real Madrid 1', ' Real Madrid 0', ' Valencia 2', ' Sevilla 1']\n"
     ]
    }
   ],
   "source": [
    "# Initialize empty list to store scores\n",
    "opponent_scores = []\n",
    "\n",
    "# Open the CSV file and read the data\n",
    "with open('matches_cleaned.csv', 'r', newline='', encoding='utf-8') as csvfile:\n",
    "    reader = csv.reader(csvfile)\n",
    "\n",
    "    # Loop through each row and extract the opponent score\n",
    "    for row in reader:\n",
    "        # Check if Barcelona played at home or away\n",
    "        if row[1] == ' Barcelona ':\n",
    "            team = row[3]\n",
    "            opponent_score = row[2].split('–')[1].strip()\n",
    "        elif row[3] == ' Barcelona ':\n",
    "            team = row[1]\n",
    "            opponent_score = row[2].split('–')[0].strip()\n",
    "        else:\n",
    "            continue\n",
    "        \n",
    "        # Append the opponent score to the list\n",
    "        opponent_scores.append(team + opponent_score)\n",
    "print(opponent_scores)\n"
   ]
  },
  {
   "cell_type": "markdown",
   "id": "0390eb91",
   "metadata": {},
   "source": [
    "<b>This code reads the matches_cleaned.csv file and loops through each row to extract the score of the team that played against Barcelona. It checks whether Barcelona played at home or away in each match and extracts the opponent score accordingly. It then appends each opponent score to a list called opponent_scores.\n",
    "Once we have the opponent scores, we can calculate the distribution of goals scored by the team who played against Barcelona. We can use the numpy module in Python to calculate the mean, median, max, min, and standard deviation of the opponent scores, and the matplotlib module to create a histogram to visualize the distribution.</b>"
   ]
  },
  {
   "cell_type": "code",
   "execution_count": 19,
   "id": "a2d91369",
   "metadata": {},
   "outputs": [
    {
     "name": "stdout",
     "output_type": "stream",
     "text": [
      "[1, 0, 0, 2, 1, 2, 2, 1, 1, 2, 1, 2, 4, 1, 0, 0, 0, 0, 1, 0, 1, 0, 2, 0, 0, 2, 0, 1, 1, 0, 4, 0, 0, 1, 0, 0, 2, 0, 2, 0, 15, 2, 4, 2, 16, 1, 0, 2, 1]\n"
     ]
    }
   ],
   "source": [
    "# Extract the number of goals for each team and convert it to a number\n",
    "goals = []\n",
    "for i in opponent_scores:\n",
    "    n = int(''.join(filter(str.isdigit, i)))\n",
    "    goals.append(n)\n",
    "print(goals)"
   ]
  },
  {
   "cell_type": "code",
   "execution_count": 22,
   "id": "80560505",
   "metadata": {},
   "outputs": [
    {
     "data": {
      "image/png": "[encoded data removed]",
      "text/plain": [
       "<Figure size 432x288 with 1 Axes>"
      ]
     },
     "metadata": {
      "needs_background": "light"
     },
     "output_type": "display_data"
    },
    {
     "name": "stdout",
     "output_type": "stream",
     "text": [
      "Mean score: 1.63\n",
      "Median score: 1.00\n",
      "Standard deviation: 3.06\n",
      "Max goals scored: 16\n",
      "Min goals scored: 0\n"
     ]
    }
   ],
   "source": [
    "import numpy as np\n",
    "import matplotlib.pyplot as plt\n",
    "\n",
    "# Calculate mean, median, and standard deviation of opponent scores\n",
    "mean_score = np.mean(goals)\n",
    "median_score = np.median(goals)\n",
    "std_dev = np.std(goals)\n",
    "maximum = np.max(goals)\n",
    "minimum = np.min(goals)\n",
    "# Create histogram of opponent scores\n",
    "plt.hist(goals, bins=10)\n",
    "plt.title('Distribution of Goals Scored by Teams Against Barcelona')\n",
    "plt.xlabel('Goals Scored')\n",
    "plt.ylabel('Frequency')\n",
    "plt.show()\n",
    "\n",
    "# Print mean, median, and standard deviation\n",
    "print('Mean score: {:.2f}'.format(mean_score))\n",
    "print('Median score: {:.2f}'.format(median_score))\n",
    "print('Standard deviation: {:.2f}'.format(std_dev))\n",
    "print('Max goals scored:',maximum)\n",
    "print('Min goals scored:',minimum)\n",
    "\n"
   ]
  },
  {
   "cell_type": "markdown",
   "id": "526ce64e",
   "metadata": {},
   "source": [
    "### <font color=\"blue\">Second question:What was the highest-scoring match in terms of total goals?</font>\n",
    "\n",
    "\n",
    "<b>To answer this question we need to calculate the total number of goals scored in each match and then find the match with the highest number of goals</b>"
   ]
  },
  {
   "cell_type": "code",
   "execution_count": 43,
   "id": "8ddca169",
   "metadata": {},
   "outputs": [
    {
     "name": "stdout",
     "output_type": "stream",
     "text": [
      "The highest-scoring match was:  Barcelona  8–2  Huesca  with a total of 10 goals.\n"
     ]
    }
   ],
   "source": [
    "# Read the CSV file\n",
    "df = pd.read_csv('matches_cleaned.csv', header=None)\n",
    "\n",
    "# Set column names\n",
    "df.columns = ['Date', 'Home Team', 'Score', 'Away Team']\n",
    "\n",
    "# Convert score column to a list of tuples\n",
    "score_tuples = [tuple(map(int, score.split('–'))) for score in df['Score']]\n",
    "\n",
    "# Add new columns for home and away goals\n",
    "df['Home Goals'] = [score[0] for score in score_tuples]\n",
    "df['Away Goals'] = [score[1] for score in score_tuples]\n",
    "\n",
    "# Calculate total goals\n",
    "df['Total Goals'] = df['Home Goals'] + df['Away Goals']\n",
    "\n",
    "# Find the highest-scoring match\n",
    "highest_scoring_match = df.loc[df['Total Goals'].idxmax()]\n",
    "\n",
    "# Print the result\n",
    "print(f\"The highest-scoring match was: {highest_scoring_match['Home Team']} {highest_scoring_match['Score']} {highest_scoring_match['Away Team']} with a total of {highest_scoring_match['Total Goals']} goals.\")\n"
   ]
  },
  {
   "cell_type": "markdown",
   "id": "e761db48",
   "metadata": {},
   "source": [
    "### <font color=\"blue\">Third question:What is the average number of goals scored per match?</font>\n",
    "\n",
    "<b>Here are the code that can answer the question:</b>"
   ]
  },
  {
   "cell_type": "code",
   "execution_count": 33,
   "id": "772d2a61",
   "metadata": {},
   "outputs": [
    {
     "name": "stdout",
     "output_type": "stream",
     "text": [
      "The average number of goals scored per match is: 3.203125\n"
     ]
    }
   ],
   "source": [
    "total_goals = 0\n",
    "num_matches = 0\n",
    "\n",
    "with open('matches_cleaned.csv', newline='', encoding='utf-8') as csvfile:\n",
    "    reader = csv.reader(csvfile)\n",
    "    next(reader)  # skip header row\n",
    "    \n",
    "    for row in reader:\n",
    "        goals = row[2].split('–')  # split score into home and away goals\n",
    "        total_goals += int(goals[0]) + int(goals[1])  # add up total goals in match\n",
    "        num_matches += 1\n",
    "    \n",
    "avg_goals = total_goals / num_matches\n",
    "\n",
    "print('The average number of goals scored per match is:', avg_goals)\n"
   ]
  },
  {
   "cell_type": "markdown",
   "id": "8169294b",
   "metadata": {},
   "source": [
    "### <font color=\"blue\">Fourth question: Are there any patterns in the times of the year or days of the week when Barcelona played their matches?</font>\n"
   ]
  },
  {
   "cell_type": "code",
   "execution_count": 56,
   "id": "9f7196c0",
   "metadata": {},
   "outputs": [
    {
     "name": "stdout",
     "output_type": "stream",
     "text": [
      "Matches played by month:\n",
      "         Month  Opponent\n",
      "0       April         8\n",
      "1      August         5\n",
      "2    December         6\n",
      "3    February         7\n",
      "4     January         8\n",
      "5        July         1\n",
      "6       March         6\n",
      "7         May         6\n",
      "8    November         5\n",
      "9     October         6\n",
      "10  September         6\n",
      "\n",
      "Matches played by day of the week:\n",
      "    DayOfWeek  Opponent\n",
      "0   Saturday        21\n",
      "1     Sunday        17\n",
      "2   Thursday         2\n",
      "3    Tuesday         9\n",
      "4  Wednesday        15\n"
     ]
    },
    {
     "data": {
      "image/png": "[encoded data removed]",
      "text/plain": [
       "<Figure size 432x288 with 1 Axes>"
      ]
     },
     "metadata": {},
     "output_type": "display_data"
    },
    {
     "data": {
      "image/png": "[encoded data removed]",
      "text/plain": [
       "<Figure size 432x288 with 1 Axes>"
      ]
     },
     "metadata": {},
     "output_type": "display_data"
    }
   ],
   "source": [
    "from datetime import datetime\n",
    "\n",
    "# Read the CSV file into a pandas dataframe\n",
    "df = pd.read_csv('matches_cleaned.csv')\n",
    "df.columns = ['Date', 'Home Team', 'Score', 'Opponent']\n",
    "\n",
    "# Convert the \"Date\" column to a datetime object\n",
    "df['Date'] = pd.to_datetime(df['Date'], format='%d %B %Y')\n",
    "\n",
    "# Extract the month and day of the week into separate columns\n",
    "df['Month'] = df['Date'].dt.month_name()\n",
    "df['DayOfWeek'] = df['Date'].dt.day_name()\n",
    "\n",
    "# Group the data by month and day of the week, and count the number of matches played\n",
    "matches_by_month = df.groupby('Month')['Opponent'].count().reset_index()\n",
    "matches_by_day = df.groupby('DayOfWeek')['Opponent'].count().reset_index()\n",
    "\n",
    "# Print the results\n",
    "print('Matches played by month:\\n', matches_by_month)\n",
    "print('\\nMatches played by day of the week:\\n', matches_by_day)\n",
    "\n",
    "# Create a pie chart of matches played by month\n",
    "plt.pie(matches_by_month['Opponent'], labels=matches_by_month['Month'], autopct='%1.1f%%')\n",
    "plt.title('Matches played by month')\n",
    "plt.axis('equal')\n",
    "plt.show()\n",
    "\n",
    "# Create a pie chart of matches played by day of the week\n",
    "plt.pie(matches_by_day['Opponent'], labels=matches_by_day['DayOfWeek'], autopct='%1.1f%%')\n",
    "plt.title('Matches played by day of the week')\n",
    "plt.axis('equal')\n",
    "plt.show()"
   ]
  },
  {
   "cell_type": "markdown",
   "id": "d15f4c11",
   "metadata": {},
   "source": [
    "### Answer:\n",
    "<b>Based on the output, and the two chart it appears that Barcelona tends to play more matches on Saturdays and Sundays, with a total of 21 and 17 matches played on these days, respectively. There is also a slightly higher number of matches played in the months of April, January, and February.</b>"
   ]
  },
  {
   "cell_type": "markdown",
   "id": "e786cb80",
   "metadata": {},
   "source": [
    "### <font color=\"blue\">6th question: Whether there have been any significant changes in Barcelona's performance over time?</font>"
   ]
  },
  {
   "cell_type": "code",
   "execution_count": 29,
   "id": "379cb701",
   "metadata": {},
   "outputs": [
    {
     "data": {
      "image/png": "[encoded data removed]",
      "text/plain": [
       "<Figure size 720x432 with 1 Axes>"
      ]
     },
     "metadata": {
      "needs_background": "light"
     },
     "output_type": "display_data"
    }
   ],
   "source": [
    "# Read the CSV file into a pandas dataframe\n",
    "df = pd.read_csv('matches_cleaned.csv')\n",
    "df.columns = ['Date', 'Home Team', 'Score', 'Opponent']\n",
    "df['Date'] = pd.to_datetime(df['Date'], format='%d %B %Y')\n",
    "\n",
    "# Define a function to determine the match result (win, loss, or draw) for Barcelona\n",
    "def get_result(row):\n",
    "    if row['Home Team'] == 'Barcelona':\n",
    "        barca_score = int(row['Score'].split('–')[0])\n",
    "        opponent_score = int(row['Score'].split('–')[1])\n",
    "    else:\n",
    "        barca_score = int(row['Score'].split('–')[1])\n",
    "        opponent_score = int(row['Score'].split('–')[0])\n",
    "    if barca_score > opponent_score:\n",
    "        return 'Win'\n",
    "    elif barca_score < opponent_score:\n",
    "        return 'Loss'\n",
    "    else:\n",
    "        return 'Draw'\n",
    "\n",
    "# Create a new column \"Result\" to indicate the match result for Barcelona\n",
    "df['Result'] = df.apply(get_result, axis=1)\n",
    "\n",
    "# Group the data by year and count the number of matches won, lost, and drawn\n",
    "df['Month'] = df['Date'].dt.month\n",
    "monthly_results = df.groupby('Month')['Result'].value_counts().unstack().fillna(0)\n",
    "\n",
    "# Calculate the total number of matches played each year\n",
    "monthly_results['Total Matches'] = monthly_results.sum(axis=1)\n",
    "\n",
    "# Calculate the percentage of matches won, lost, and drawn each year\n",
    "monthly_results['Win %'] = round(monthly_results['Win'] / monthly_results['Total Matches'] * 100, 2)\n",
    "monthly_results['Loss %'] = round(monthly_results['Loss'] / monthly_results['Total Matches'] * 100, 2)\n",
    "monthly_results['Draw %'] = round(monthly_results['Draw'] / monthly_results['Total Matches'] * 100, 2)\n",
    "\n",
    "# Plot the percentage of matches won, lost, and drawn each year\n",
    "ax = monthly_results[['Win %', 'Loss %', 'Draw %']].plot(kind='bar', stacked=True, figsize=(10, 6))\n",
    "ax.set_title('Barcelona Performance Over Time', fontsize=16)\n",
    "ax.set_xlabel('Month', fontsize=14)\n",
    "ax.set_ylabel('Percentage', fontsize=14)\n",
    "plt.xticks(rotation=0)\n",
    "plt.show()\n"
   ]
  },
  {
   "cell_type": "code",
   "execution_count": null,
   "id": "053ff08d",
   "metadata": {},
   "outputs": [],
   "source": []
  }
 ],
 "metadata": {
  "kernelspec": {
   "display_name": "Python 3 (ipykernel)",
   "language": "python",
   "name": "python3"
  },
  "language_info": {
   "codemirror_mode": {
    "name": "ipython",
    "version": 3
   },
   "file_extension": ".py",
   "mimetype": "text/x-python",
   "name": "python",
   "nbconvert_exporter": "python",
   "pygments_lexer": "ipython3",
   "version": "3.9.12"
  }
 },
 "nbformat": 4,
 "nbformat_minor": 5
}
